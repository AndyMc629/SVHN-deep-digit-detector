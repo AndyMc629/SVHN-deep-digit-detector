{
 "cells": [
  {
   "cell_type": "markdown",
   "metadata": {},
   "source": [
    "# object-detector\n",
    "\n",
    "This project implements basic object detection framework using python.\n",
    "\n",
    "References for building this project is [pyimagesearch](https://gurus.pyimagesearch.com/).\n",
    "\n",
    "## 1. Quick Start with default configuration file\n",
    "\n",
    "### 1) Download dataset\n",
    "\n",
    "* Download [Caltech-101](http://www.vision.caltech.edu/Image_Datasets/Caltech101/101_ObjectCategories.tar.gz)\n",
    "* Download [google-things](http://www.robots.ox.ac.uk/~vgg/data/background_google/google_things.tar) : This dataset will be used as the negative images\n",
    "\n",
    "### 2) Extract dataset files\n",
    "\n",
    "* Extract dataset files.\n",
    "* Locate dataset directory as the following structure.\n",
    "\n",
    "```\n",
    "|--- [Project Directory]\n",
    "|--- [datasets]\n",
    "        |--- [caltech101]\n",
    "                |--- [101_ObjectCategories]\n",
    "                |--- [Annotations]\n",
    "        |--- [google_things]\n",
    "```\n",
    "\n",
    "### 3) Confirm the path of the dataset\n",
    "\n",
    "Run \"0_check_dataset_path.py\". If you can find the following message, you can go to the next step.\n",
    "\n",
    "```\n",
    "c:\\object-detector>python 0_check_dataset_path.py\n",
    "Positive dataset location is correct\n",
    "Negative dataset location is correct\n",
    "```\n"
   ]
  },
  {
   "cell_type": "markdown",
   "metadata": {},
   "source": [
    "### 4) Run the main driver\n",
    "\n",
    "Run \"main.py\". It will build object-detector with the following 7-steps\n",
    "\n",
    "#### [Step 1] Getting average size of the target object.\n",
    "\n",
    "```\n",
    "[Step 1] Getting average size of the target object.\n",
    "            You can set or edit your detector's window size referring this result.\n",
    "            config_file.json[\"detector\"][\"window_dim\"]\n",
    "            [INFO] current setting is [32, 96]\n",
    "```\n",
    "\n",
    "#### [Step 2] Extracting features.\n",
    "\n",
    "```\n",
    "[Step 2] Extracting features\n",
    "[FeatureGetter INFO] Positive samples: 122, Negative samples: 1300, Hard Negative Mined samples: 0\n",
    "[FeatureGetter INFO] Feature Dimension: 5796\n",
    "```\n",
    "\n",
    "#### [Step 3] Training classifier\n",
    "\n",
    "```\n",
    "[Step 3] Training classifier. (Note: It can be time-consuming task)\n",
    "[INFO] Training result is as follows\n",
    "             precision    recall  f1-score   support\n",
    "\n",
    "        0.0       1.00      1.00      1.00      1300\n",
    "        1.0       1.00      0.97      0.98       122\n",
    "\n",
    "avg / total       1.00      1.00      1.00      1422\n",
    "```\n",
    "\n",
    "#### [Step 4] Gathering Hard Negative Samples.\n",
    "\n",
    "```\n",
    "\n",
    "```\n",
    "\n",
    "#### [Step 5] Re-training classifier including hard-negative-mined samples.\n",
    "\n",
    "```\n",
    "\n",
    "```\n",
    "\n",
    "#### [Step 6] Running detector.\n",
    "\n",
    "\n",
    "\n",
    "#### [Step 7] Evaluate detector using average-precision metric.\n",
    "\n",
    "\n",
    "\n",
    "\n",
    "\n",
    "\n"
   ]
  },
  {
   "cell_type": "code",
   "execution_count": null,
   "metadata": {
    "collapsed": false
   },
   "outputs": [],
   "source": [
    "run ./5_run.py"
   ]
  },
  {
   "cell_type": "code",
   "execution_count": null,
   "metadata": {
    "collapsed": true
   },
   "outputs": [],
   "source": []
  }
 ],
 "metadata": {
  "anaconda-cloud": {},
  "kernelspec": {
   "display_name": "Python [Root]",
   "language": "python",
   "name": "Python [Root]"
  },
  "language_info": {
   "codemirror_mode": {
    "name": "ipython",
    "version": 2
   },
   "file_extension": ".py",
   "mimetype": "text/x-python",
   "name": "python",
   "nbconvert_exporter": "python",
   "pygments_lexer": "ipython2",
   "version": "2.7.12"
  }
 },
 "nbformat": 4,
 "nbformat_minor": 0
}
